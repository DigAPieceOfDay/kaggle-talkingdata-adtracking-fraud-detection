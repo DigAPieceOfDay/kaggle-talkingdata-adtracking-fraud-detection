{
 "cells": [
  {
   "cell_type": "code",
   "execution_count": 1,
   "metadata": {},
   "outputs": [],
   "source": [
    "# Create normalized dataset\n",
    "# - duplicates https://www.kaggle.com/c/talkingdata-adtracking-fraud-detection/discussion/52752\n",
    "# - join test_supplement.csv and test.csv\n",
    "# - sort by click_time"
   ]
  },
  {
   "cell_type": "code",
   "execution_count": 2,
   "metadata": {},
   "outputs": [],
   "source": [
    "import pandas as pd\n",
    "import numpy as np"
   ]
  },
  {
   "cell_type": "code",
   "execution_count": 20,
   "metadata": {},
   "outputs": [],
   "source": [
    "DATA_DIR = '../data/mnt/ssd/kaggle-talkingdata2/competition_files'\n",
    "TRAIN_SAMPLE_FILE = DATA_DIR + '/train_sample.csv'\n",
    "TRAIN_FILE = DATA_DIR + '/train.csv'\n",
    "TEST_FILE = DATA_DIR + '/test.csv'\n",
    "TEST_SUPPLEMENT_FILE = DATA_DIR + '/test_supplement.csv'\n",
    "TEST_JOINED_FILE = DATA_DIR + '/test_joined.csv'"
   ]
  },
  {
   "cell_type": "code",
   "execution_count": 4,
   "metadata": {},
   "outputs": [],
   "source": [
    "# test_supplement.csv\n",
    "df_test_supplement = pd.read_csv(TEST_SUPPLEMENT_FILE)"
   ]
  },
  {
   "cell_type": "code",
   "execution_count": 5,
   "metadata": {},
   "outputs": [],
   "source": [
    "# test.csv: this is a subset of test_supplement.csv which is used to score submissions\n",
    "df_test = pd.read_csv(TEST_FILE)"
   ]
  },
  {
   "cell_type": "code",
   "execution_count": 6,
   "metadata": {},
   "outputs": [],
   "source": [
    "# join test_supplement.csv and test.csv\n",
    "df_test_joined = df_test_supplement.merge(df_test, how='left', on=['ip', 'app', 'device', 'os', 'channel', 'click_time'], suffixes=['', '_submission'])"
   ]
  },
  {
   "cell_type": "code",
   "execution_count": 7,
   "metadata": {},
   "outputs": [],
   "source": [
    "# remove extra duplicates\n",
    "# note: pandas consider duplicates rows that are identical even if there are nans in some columns\n",
    "duplicated_idx = df_test_joined.duplicated(subset=['ip', 'app', 'device', 'os', 'channel', 'click_time', 'click_id_submission'], keep='first')\n",
    "df_test_joined_dedup = df_test_joined[(~ duplicated_idx) | (df_test_joined['click_id_submission'].isnull())]"
   ]
  },
  {
   "cell_type": "code",
   "execution_count": 8,
   "metadata": {},
   "outputs": [],
   "source": [
    "# check that all subsmission clicks are preserved after join and remove of extra duplicates\n",
    "df_test_joined_dedup['click_id_submission'].value_counts().sum()\n",
    "assert df_test.shape[0] == df_test_joined_dedup['click_id_submission'].value_counts().shape[0]\n",
    "assert df_test.shape[0] == df_test_joined_dedup['click_id_submission'].value_counts().sum()"
   ]
  },
  {
   "cell_type": "code",
   "execution_count": 9,
   "metadata": {},
   "outputs": [
    {
     "name": "stdout",
     "output_type": "stream",
     "text": [
      "33\n"
     ]
    }
   ],
   "source": [
    "# note: a small number of events from test_supplement is lost after deduplications. \n",
    "# Assuming these were events in test_supplement.csv which were not present in test.csv but still were duplicates of events from test.csv\n",
    "print(df_test_supplement.shape[0] - df_test_joined_dedup.shape[0])"
   ]
  },
  {
   "cell_type": "code",
   "execution_count": 10,
   "metadata": {},
   "outputs": [],
   "source": [
    "del(df_test_supplement)\n",
    "del(df_test)\n",
    "del(df_test_joined)"
   ]
  },
  {
   "cell_type": "code",
   "execution_count": 11,
   "metadata": {},
   "outputs": [],
   "source": [
    "df_test_joined_dedup.sort_values(by=['click_time', 'ip', 'app', 'device', 'os', 'channel'], inplace=True)"
   ]
  },
  {
   "cell_type": "code",
   "execution_count": 16,
   "metadata": {},
   "outputs": [],
   "source": [
    "df_test_joined_dedup['click_id_submission'] = df_test_joined_dedup['click_id_submission'].fillna(value=-1).astype(int)"
   ]
  },
  {
   "cell_type": "code",
   "execution_count": 21,
   "metadata": {},
   "outputs": [],
   "source": [
    "df_test_joined_dedup.to_csv(TEST_JOINED_FILE, index=False)"
   ]
  }
 ],
 "metadata": {
  "kernelspec": {
   "display_name": "Python [conda env:kaggle-talking-data]",
   "language": "python",
   "name": "conda-env-kaggle-talking-data-py"
  },
  "language_info": {
   "codemirror_mode": {
    "name": "ipython",
    "version": 3.0
   },
   "file_extension": ".py",
   "mimetype": "text/x-python",
   "name": "python",
   "nbconvert_exporter": "python",
   "pygments_lexer": "ipython3",
   "version": "3.6.4"
  }
 },
 "nbformat": 4,
 "nbformat_minor": 0
}